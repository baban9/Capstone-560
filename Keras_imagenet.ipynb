{
  "nbformat": 4,
  "nbformat_minor": 0,
  "metadata": {
    "colab": {
      "name": "Keras-imagenet",
      "provenance": []
    },
    "kernelspec": {
      "name": "python3",
      "display_name": "Python 3"
    },
    "language_info": {
      "name": "python"
    }
  },
  "cells": [
    {
      "cell_type": "code",
      "metadata": {
        "id": "kQDctHQsq18s"
      },
      "source": [
        ""
      ],
      "execution_count": null,
      "outputs": []
    },
    {
      "cell_type": "code",
      "metadata": {
        "id": "n9ghAX-Pqrg4"
      },
      "source": [
        "\"\"\"\n",
        "Loading necessary libraries and model\n",
        "\"\"\"\n",
        "from tensorflow.keras.applications.resnet50 import ResNet50\n",
        "from tensorflow.keras.preprocessing import image\n",
        "from tensorflow.keras.applications.resnet50 import preprocess_input, decode_predictions\n",
        "import numpy as np\n",
        "\n",
        "\n",
        "model = ResNet50(weights='imagenet')"
      ],
      "execution_count": null,
      "outputs": []
    },
    {
      "cell_type": "code",
      "metadata": {
        "colab": {
          "base_uri": "https://localhost:8080/"
        },
        "id": "vQm05IHLujgL",
        "outputId": "034b39b4-c81b-4d45-fff7-3a66a2439095"
      },
      "source": [
        "# getting the list of images inside the data \n",
        "import os \n",
        "\n",
        "os.chdir(\"/content/drive/Shareddrives/ComED Codes and Data/Keras \")\n",
        "\n",
        "data_dir = os.getcwd()\n",
        "\n",
        "files =os.listdir(data_dir + \"/temp\")\n",
        "\n",
        "# files"
      ],
      "execution_count": null,
      "outputs": [
        {
          "output_type": "execute_result",
          "data": {
            "text/plain": [
              "['test.jpg',\n",
              " 'Copy of gsv_4.jpg',\n",
              " 'Copy of gsv_3.jpg',\n",
              " 'Copy of gsv_1.jpg',\n",
              " 'Copy of gsv_0.jpg',\n",
              " 'Copy of gsv_5.jpg']"
            ]
          },
          "metadata": {
            "tags": []
          },
          "execution_count": 24
        }
      ]
    },
    {
      "cell_type": "code",
      "metadata": {
        "id": "30DXZEIcr1ni"
      },
      "source": [
        "\"\"\"\n",
        "Finding objects in the image for further analysis\n",
        "\"\"\"\n",
        "model_dict = {}\n",
        "\n",
        "for ele in files:\n",
        "  img_path = data_dir + '/temp/'+ ele\n",
        "  img = image.load_img(img_path, target_size=(224,224))\n",
        "  x = image.img_to_array(img)\n",
        "  x = np.expand_dims(x, axis=0)\n",
        "  x = preprocess_input(x)\n",
        "\n",
        "  preds = model.predict(x)\n",
        "  # decode the results into a list of tuples (class, description, probability)\n",
        "  # (one such list for each sample in the batch)\n",
        "  # decode_predictions(preds, top=20)[0]\n",
        "\n",
        "  model_dict[ele] = decode_predictions(preds, top=20)[0]\n",
        "  # Predicted: [(u'n02504013', u'Indian_elephant', 0.82658225), (u'n01871265', u'tusker', 0.1122357), (u'n02504458', u'African_elephant', 0.061040461)]"
      ],
      "execution_count": null,
      "outputs": []
    },
    {
      "cell_type": "markdown",
      "metadata": {
        "id": "qTfKGHfWCOGW"
      },
      "source": [
        "# Distribution approach \n",
        "\n",
        "Now, we will generate a image and objects dictionary to get a sense of what other objects are detected in the image. "
      ]
    },
    {
      "cell_type": "code",
      "metadata": {
        "colab": {
          "base_uri": "https://localhost:8080/"
        },
        "id": "aDWroq_ar80h",
        "outputId": "719d2ec5-0b82-4621-d248-eed5b9ad6fec"
      },
      "source": [
        "\n",
        "image_dict = {}\n",
        "for key, value in model_dict.items():\n",
        "  # print(value)\n",
        "  temp = [] \n",
        "  for k in value:\n",
        "    # print(k[1])\n",
        "    temp.append(k[1])\n",
        "  image_dict[key] = ', '.join(temp)\n",
        "\n",
        "image_dict"
      ],
      "execution_count": null,
      "outputs": [
        {
          "output_type": "execute_result",
          "data": {
            "text/plain": [
              "{'Copy of gsv_0.jpg': 'fountain, stupa, fireboat, chainlink_fence, quill, greenhouse, alp, radio_telescope, lakeside, brass, planetarium, palace, bubble, mosque, prison, mobile_home, solar_dish, picket_fence, hourglass, church',\n",
              " 'Copy of gsv_1.jpg': 'fountain, recreational_vehicle, mobile_home, chainlink_fence, stupa, radio_telescope, fireboat, picket_fence, balloon, trailer_truck, lakeside, parachute, car_mirror, trolleybus, minivan, suspension_bridge, solar_dish, obelisk, greenhouse, liner',\n",
              " 'Copy of gsv_3.jpg': 'alp, stupa, trolleybus, car_mirror, thatch, church, picket_fence, pole, volcano, valley, mailbox, solar_dish, prison, barn, viaduct, minivan, monastery, suspension_bridge, greenhouse, unicycle',\n",
              " 'Copy of gsv_4.jpg': 'crane, prison, stupa, pole, trolleybus, streetcar, solar_dish, alp, cab, chainlink_fence, traffic_light, patio, unicycle, parking_meter, moving_van, crutch, street_sign, motor_scooter, dock, shopping_cart',\n",
              " 'Copy of gsv_5.jpg': 'alp, stupa, prison, suspension_bridge, trolleybus, castle, solar_dish, pole, streetcar, car_mirror, monastery, crane, valley, ski, reel, fountain, freight_car, church, lumbermill, cliff',\n",
              " 'test.jpg': 'dam, pier, prison, lumbermill, picket_fence, suspension_bridge, boathouse, stupa, thatch, pole, chainlink_fence, lakeside, crane, trolleybus, greenhouse, steam_locomotive, alp, volcano, streetcar, dock'}"
            ]
          },
          "metadata": {
            "tags": []
          },
          "execution_count": 34
        }
      ]
    },
    {
      "cell_type": "code",
      "metadata": {
        "id": "vvq_HxRNsdqS"
      },
      "source": [
        "\"\"\"\n",
        "Function to calculate the jaccard similarity for image x image \n",
        "\"\"\"\n",
        "\n",
        "def jaccard(image1_objs, image2_objs):\n",
        "  list1, list2 = image1_objs.split(\",\"),image2_objs.split(\",\")\n",
        "  intersection = len(list(set(list1).intersection(list2)))\n",
        "  union = (len(list1) + len(list2)) - intersection\n",
        "  return float(intersection) / union"
      ],
      "execution_count": null,
      "outputs": []
    },
    {
      "cell_type": "markdown",
      "metadata": {
        "id": "7vv0cOfhCrxE"
      },
      "source": [
        "# Matrix of image x image jaccard similarity.\n",
        "\n",
        "Here, we have made an image x image matrix with their corresponding jaccard similarity. "
      ]
    },
    {
      "cell_type": "markdown",
      "metadata": {
        "id": "L_aPBgi2EBSy"
      },
      "source": [
        "# write a function which gererates image x image matrix with lower left triangle of the matrix as zeroes. \n",
        "\n",
        "# Or maybe write a function which takes in all the similarity measures of image x image and save it into a list"
      ]
    },
    {
      "cell_type": "code",
      "metadata": {
        "id": "6fHEbFyb5jG2"
      },
      "source": [
        ""
      ],
      "execution_count": null,
      "outputs": []
    },
    {
      "cell_type": "markdown",
      "metadata": {
        "id": "VntzM73gD2Nw"
      },
      "source": [
        "# write a function which plots the KDE plot for upper right triangle of the matrix."
      ]
    },
    {
      "cell_type": "code",
      "metadata": {
        "id": "MjMIhmN4D1m9"
      },
      "source": [
        ""
      ],
      "execution_count": null,
      "outputs": []
    },
    {
      "cell_type": "code",
      "metadata": {
        "id": "oIDqFsai1wg5"
      },
      "source": [
        "import seaborn as sns \n",
        "import matplotlib.pyplot as plt"
      ],
      "execution_count": null,
      "outputs": []
    },
    {
      "cell_type": "code",
      "metadata": {
        "colab": {
          "base_uri": "https://localhost:8080/",
          "height": 369
        },
        "id": "oC8cVzp42URG",
        "outputId": "10bdcebf-b513-41bd-a078-e6331d0c1bcd"
      },
      "source": [
        "sns.displot(data = li,kind=\"kde\")\n",
        "plt.show()"
      ],
      "execution_count": null,
      "outputs": [
        {
          "output_type": "display_data",
          "data": {
            "image/png": "[encoded data removed]",
            "text/plain": [
              "<Figure size 360x360 with 1 Axes>"
            ]
          },
          "metadata": {
            "tags": [],
            "needs_background": "light"
          }
        }
      ]
    },
    {
      "cell_type": "code",
      "metadata": {
        "id": "gdo0MV9960Ok"
      },
      "source": [
        ""
      ],
      "execution_count": null,
      "outputs": []
    },
    {
      "cell_type": "code",
      "metadata": {
        "id": "mAJ7yULI7rvL"
      },
      "source": [
        ""
      ],
      "execution_count": null,
      "outputs": []
    }
  ]
}